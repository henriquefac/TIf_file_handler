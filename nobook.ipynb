{
 "cells": [
  {
   "cell_type": "markdown",
   "metadata": {},
   "source": [
    "## Algoritmo de ordenação"
   ]
  },
  {
   "cell_type": "code",
   "execution_count": 1,
   "metadata": {},
   "outputs": [],
   "source": [
    "def QuickSort(lista):\n",
    "    quicksort(lista, 0, len(lista) - 1)\n",
    "\n",
    "def quicksort(lista, inicio, fim):\n",
    "    ponteiro = lista[inicio]\n",
    "    \n",
    "    l = inicio\n",
    "    r = fim\n",
    "    while l <= r:\n",
    "        if lista[l] < ponteiro:\n",
    "            l += 1\n",
    "        elif lista[r] > ponteiro:\n",
    "            r -= 1\n",
    "        else:\n",
    "            lista[l], lista[r] =  lista[r], lista[l]\n",
    "            l += 1\n",
    "            r -= 1\n",
    "    if inicio < r:\n",
    "        quicksort(lista, inicio, r)\n",
    "    if l < fim:\n",
    "        quicksort(lista, l, fim)\n"
   ]
  },
  {
   "cell_type": "markdown",
   "metadata": {},
   "source": [
    "## Carregar dados tif"
   ]
  },
  {
   "cell_type": "code",
   "execution_count": 3,
   "metadata": {},
   "outputs": [],
   "source": [
    "from classes.tiffile import TifHandler\n",
    "from classes.plot_raster import PlotRaster\n",
    "# path do arquivo tif"
   ]
  }
 ],
 "metadata": {
  "kernelspec": {
   "display_name": "tif_proj",
   "language": "python",
   "name": "python3"
  },
  "language_info": {
   "codemirror_mode": {
    "name": "ipython",
    "version": 3
   },
   "file_extension": ".py",
   "mimetype": "text/x-python",
   "name": "python",
   "nbconvert_exporter": "python",
   "pygments_lexer": "ipython3",
   "version": "3.12.5"
  }
 },
 "nbformat": 4,
 "nbformat_minor": 2
}
